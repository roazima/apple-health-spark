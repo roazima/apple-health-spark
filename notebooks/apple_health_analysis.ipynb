{
 "cells": [
  {
   "cell_type": "markdown",
   "id": "cb302df2",
   "metadata": {},
   "source": [
    "## Create Spark Session\n",
    "This sets up the PySpark environment for local processing."
   ]
  },
  {
   "cell_type": "code",
   "execution_count": null,
   "id": "7871cec2",
   "metadata": {},
   "outputs": [],
   "source": [
    "from pyspark.sql import SparkSession\n",
    "\n",
    "spark = SparkSession.builder \\\n",
    "    .appName(\"AppleHealthAnalysis\") \\\n",
    "    .getOrCreate()\n"
   ]
  },
  {
   "cell_type": "markdown",
   "id": "e72af411",
   "metadata": {},
   "source": [
    "Read the transformed data to show only the first 5 row for verification"
   ]
  },
  {
   "cell_type": "code",
   "execution_count": null,
   "id": "96a92686",
   "metadata": {},
   "outputs": [],
   "source": [
    "df = spark.read.csv(\"../data/export.csv\", header=True, inferSchema=True)\n",
    "df.show(5)\n"
   ]
  },
  {
   "cell_type": "markdown",
   "id": "349e9f5c",
   "metadata": {},
   "source": [
    "Filter by only steps counts, sleep details and the burnt calories"
   ]
  },
  {
   "cell_type": "code",
   "execution_count": null,
   "id": "0e25d976",
   "metadata": {},
   "outputs": [],
   "source": [
    "focus_types = [\n",
    "    \"HKQuantityTypeIdentifierStepCount\",\n",
    "    \"HKQuantityTypeIdentifierActiveEnergyBurned\",\n",
    "    \"HKCategoryTypeIdentifierSleepAnalysis\"\n",
    "]\n",
    "\n",
    "df_filtered = df.filter(df[\"type\"].isin(focus_types))\n",
    "df_filtered.show(5)\n"
   ]
  },
  {
   "cell_type": "markdown",
   "id": "e55b6eef",
   "metadata": {},
   "source": [
    "Filter by 30 days"
   ]
  },
  {
   "cell_type": "code",
   "execution_count": null,
   "id": "978e4595",
   "metadata": {},
   "outputs": [],
   "source": [
    "from pyspark.sql.functions import to_date, col\n",
    "from datetime import datetime, timedelta\n",
    "\n",
    "# Add date column\n",
    "df_with_date = df_filtered.withColumn(\"date\", to_date(\"startDate\"))\n",
    "\n",
    "# Filter for last 30 days\n",
    "today = datetime.now()\n",
    "thirty_days_ago = today - timedelta(days=30)\n",
    "\n",
    "df_30days = df_with_date.filter(\n",
    "    col(\"date\") >= thirty_days_ago.strftime(\"%Y-%m-%d\")\n",
    ")\n"
   ]
  },
  {
   "cell_type": "markdown",
   "id": "3872d2c8",
   "metadata": {},
   "source": [
    "Then I group and convert:"
   ]
  },
  {
   "cell_type": "markdown",
   "id": "59555482",
   "metadata": {},
   "source": [
    "convert to Pandas to plot to Pandas"
   ]
  },
  {
   "cell_type": "code",
   "execution_count": null,
   "id": "ac2fc086",
   "metadata": {},
   "outputs": [],
   "source": [
    "from pyspark.sql.functions import sum as _sum\n",
    "\n",
    "df_summary = df_30days.groupBy(\"type\", \"date\").agg(\n",
    "    _sum(\"value\").alias(\"total_value\")\n",
    ")\n",
    "summary_pd = df_summary.toPandas()\n"
   ]
  },
  {
   "cell_type": "code",
   "execution_count": null,
   "id": "80a94324",
   "metadata": {},
   "outputs": [],
   "source": [
    "import matplotlib.pyplot as plt\n",
    "\n",
    "# Plot Step Count\n",
    "steps = summary_pd[summary_pd['type'] == \"HKQuantityTypeIdentifierStepCount\"]\n",
    "# Ensure one value per date\n",
    "steps = steps.groupby(\"date\")[\"total_value\"].sum().reset_index()\n",
    "\n",
    "plt.figure(figsize=(10,4))\n",
    "plt.plot(steps[\"date\"], steps[\"total_value\"], marker='o')\n",
    "plt.title(\"Daily Step Count\")\n",
    "plt.xlabel(\"Date\")\n",
    "plt.ylabel(\"Steps\")\n",
    "plt.grid(True)\n",
    "plt.xticks(rotation=45)\n",
    "plt.tight_layout()\n",
    "plt.show()\n",
    "plt.savefig(\"../notebooks/step_trend.png\")\n"
   ]
  },
  {
   "cell_type": "markdown",
   "id": "086867fe",
   "metadata": {},
   "source": [
    "plot Sleep"
   ]
  },
  {
   "cell_type": "code",
   "execution_count": null,
   "id": "168d7f98",
   "metadata": {},
   "outputs": [],
   "source": [
    "sleep = summary_pd[summary_pd['type'] == \"HKCategoryTypeIdentifierSleepAnalysis\"]\n",
    "sleep = sleep.groupby(\"date\")[\"total_value\"].sum().reset_index()\n",
    "plt.figure(figsize=(10,4))\n",
    "plt.plot(sleep[\"date\"], sleep[\"total_value\"] / 60, marker='o')  # convert minutes to hours\n",
    "plt.title(\"Daily Sleep Duration (Hours)\")\n",
    "plt.xlabel(\"Date\")\n",
    "plt.ylabel(\"Sleep (hrs)\")\n",
    "plt.grid(True)\n",
    "plt.xticks(rotation=45)\n",
    "plt.tight_layout()\n",
    "plt.show()\n",
    "plt.savefig(\"../notebooks/sleep_trend.png\")\n"
   ]
  },
  {
   "cell_type": "markdown",
   "id": "f539226c",
   "metadata": {},
   "source": [
    "Calories / Active Energy"
   ]
  },
  {
   "cell_type": "code",
   "execution_count": null,
   "id": "45d790fb",
   "metadata": {},
   "outputs": [],
   "source": [
    "energy = summary_pd[summary_pd['type'] == \"HKQuantityTypeIdentifierActiveEnergyBurned\"]\n",
    "energy = energy.groupby(\"date\")[\"total_value\"].sum().reset_index()\n",
    "plt.figure(figsize=(10,4))\n",
    "plt.plot(energy[\"date\"], energy[\"total_value\"], marker='o', color='orange')\n",
    "plt.title(\"Active Energy Burned\")\n",
    "plt.xlabel(\"Date\")\n",
    "plt.ylabel(\"Calories\")\n",
    "plt.grid(True)\n",
    "plt.xticks(rotation=45)\n",
    "plt.tight_layout()\n",
    "plt.show()\n",
    "plt.savefig(\"../notebooks/energy_trend.png\")\n"
   ]
  }
 ],
 "metadata": {
  "kernelspec": {
   "display_name": ".venv",
   "language": "python",
   "name": "python3"
  },
  "language_info": {
   "codemirror_mode": {
    "name": "ipython",
    "version": 3
   },
   "file_extension": ".py",
   "mimetype": "text/x-python",
   "name": "python",
   "nbconvert_exporter": "python",
   "pygments_lexer": "ipython3",
   "version": "3.10.4"
  }
 },
 "nbformat": 4,
 "nbformat_minor": 5
}
